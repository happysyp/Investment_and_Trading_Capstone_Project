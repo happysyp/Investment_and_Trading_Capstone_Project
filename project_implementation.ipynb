{
 "cells": [
  {
   "cell_type": "markdown",
   "metadata": {},
   "source": [
    "# Machine Learning Engineer Nanodegree\n",
    "## Investment and Trading Capstone Project Proposal\n",
    "## Project: Build a Stock Price Indicator"
   ]
  },
  {
   "cell_type": "markdown",
   "metadata": {},
   "source": [
    "## Getting Started\n",
    "\n",
    "Machine-learning has found its application in many different areas of finance. It has been applied to spot unusual patterns of transactions, which can indicate fraud. It has been applied in the document-heavy parts of finance, where AI-based systems can be used to recognize text. It is also good at automating financial decisions, like assessing creditworthiness or eligibility for an insurance policy. The newest frontier for machine-learning is in trading, where it is used both to analyze market data and to select and trade portfolios of securities.  This project will utilize machine-learning in this area to build a stock price indicator. \n",
    "\n",
    "The problem to be solved in this project is to accurately predict the future closing value of a given stock across a given period of time in the future. One potential solution is to utilize deep learning methods to predict the future value. This model can be trained using the historical data of different stocks, and the predicted value can be compared with the actual value of these stocks. The percentage difference between the predicted value and the actual value can be used to calculate the accuracy of the model.\n",
    "\n",
    "This project will use open source historical stock price data from Yahoo! Finance. Yahoo finance provides a relatively simple process of obtaining basic financial information. Information available includes financial statements and price and volume data. CSV files can be obtained through its website about the data, and web API is available. \n"
   ]
  },
  {
   "cell_type": "markdown",
   "metadata": {},
   "source": [
    "## Exploring the Data\n",
    "\n",
    "Load necessary Python libraries and load the data. I have chosen 10 different stocks and downloaded the historical data for 10 years. These stocks include a wide range of banks, tech companies, index and hotels."
   ]
  },
  {
   "cell_type": "code",
   "execution_count": 215,
   "metadata": {},
   "outputs": [
    {
     "data": {
      "text/html": [
       "<div>\n",
       "<style>\n",
       "    .dataframe thead tr:only-child th {\n",
       "        text-align: right;\n",
       "    }\n",
       "\n",
       "    .dataframe thead th {\n",
       "        text-align: left;\n",
       "    }\n",
       "\n",
       "    .dataframe tbody tr th {\n",
       "        vertical-align: top;\n",
       "    }\n",
       "</style>\n",
       "<table border=\"1\" class=\"dataframe\">\n",
       "  <thead>\n",
       "    <tr style=\"text-align: right;\">\n",
       "      <th></th>\n",
       "      <th>Date</th>\n",
       "      <th>Open</th>\n",
       "      <th>High</th>\n",
       "      <th>Low</th>\n",
       "      <th>Close</th>\n",
       "      <th>Adj Close</th>\n",
       "      <th>Volume</th>\n",
       "    </tr>\n",
       "  </thead>\n",
       "  <tbody>\n",
       "    <tr>\n",
       "      <th>0</th>\n",
       "      <td>2006-11-01</td>\n",
       "      <td>11.585714</td>\n",
       "      <td>11.625714</td>\n",
       "      <td>11.194285</td>\n",
       "      <td>11.308572</td>\n",
       "      <td>10.173827</td>\n",
       "      <td>152798100</td>\n",
       "    </tr>\n",
       "    <tr>\n",
       "      <th>1</th>\n",
       "      <td>2006-11-02</td>\n",
       "      <td>11.274285</td>\n",
       "      <td>11.331429</td>\n",
       "      <td>11.214286</td>\n",
       "      <td>11.282857</td>\n",
       "      <td>10.150690</td>\n",
       "      <td>116370800</td>\n",
       "    </tr>\n",
       "    <tr>\n",
       "      <th>2</th>\n",
       "      <td>2006-11-03</td>\n",
       "      <td>11.337143</td>\n",
       "      <td>11.361428</td>\n",
       "      <td>11.112857</td>\n",
       "      <td>11.184286</td>\n",
       "      <td>10.062012</td>\n",
       "      <td>107972200</td>\n",
       "    </tr>\n",
       "    <tr>\n",
       "      <th>3</th>\n",
       "      <td>2006-11-06</td>\n",
       "      <td>11.278571</td>\n",
       "      <td>11.437143</td>\n",
       "      <td>11.204286</td>\n",
       "      <td>11.387143</td>\n",
       "      <td>10.244513</td>\n",
       "      <td>108644200</td>\n",
       "    </tr>\n",
       "    <tr>\n",
       "      <th>4</th>\n",
       "      <td>2006-11-07</td>\n",
       "      <td>11.492857</td>\n",
       "      <td>11.571428</td>\n",
       "      <td>11.447143</td>\n",
       "      <td>11.501429</td>\n",
       "      <td>10.347329</td>\n",
       "      <td>131483100</td>\n",
       "    </tr>\n",
       "  </tbody>\n",
       "</table>\n",
       "</div>"
      ],
      "text/plain": [
       "         Date       Open       High        Low      Close  Adj Close  \\\n",
       "0  2006-11-01  11.585714  11.625714  11.194285  11.308572  10.173827   \n",
       "1  2006-11-02  11.274285  11.331429  11.214286  11.282857  10.150690   \n",
       "2  2006-11-03  11.337143  11.361428  11.112857  11.184286  10.062012   \n",
       "3  2006-11-06  11.278571  11.437143  11.204286  11.387143  10.244513   \n",
       "4  2006-11-07  11.492857  11.571428  11.447143  11.501429  10.347329   \n",
       "\n",
       "      Volume  \n",
       "0  152798100  \n",
       "1  116370800  \n",
       "2  107972200  \n",
       "3  108644200  \n",
       "4  131483100  "
      ]
     },
     "execution_count": 215,
     "metadata": {},
     "output_type": "execute_result"
    }
   ],
   "source": [
    "# Import libraries necessary for this project\n",
    "import random\n",
    "import pandas as pd\n",
    "import matplotlib.pyplot as plt\n",
    "import numpy as np\n",
    "\n",
    "# Load the Apple stock dataset\n",
    "AAPLData = pd.read_csv(\"AAPL.csv\")\n",
    "# Success - Display the 10 record\n",
    "AAPLData.head()"
   ]
  },
  {
   "cell_type": "markdown",
   "metadata": {},
   "source": [
    "### Implementation: Data Exploration\n",
    "A cursory investigation of the dataset will give a sense of how the data is like"
   ]
  },
  {
   "cell_type": "code",
   "execution_count": 216,
   "metadata": {},
   "outputs": [
    {
     "data": {
      "text/html": [
       "<div>\n",
       "<style>\n",
       "    .dataframe thead tr:only-child th {\n",
       "        text-align: right;\n",
       "    }\n",
       "\n",
       "    .dataframe thead th {\n",
       "        text-align: left;\n",
       "    }\n",
       "\n",
       "    .dataframe tbody tr th {\n",
       "        vertical-align: top;\n",
       "    }\n",
       "</style>\n",
       "<table border=\"1\" class=\"dataframe\">\n",
       "  <thead>\n",
       "    <tr style=\"text-align: right;\">\n",
       "      <th></th>\n",
       "      <th>Open</th>\n",
       "      <th>High</th>\n",
       "      <th>Low</th>\n",
       "      <th>Close</th>\n",
       "      <th>Adj Close</th>\n",
       "      <th>Volume</th>\n",
       "    </tr>\n",
       "  </thead>\n",
       "  <tbody>\n",
       "    <tr>\n",
       "      <th>count</th>\n",
       "      <td>2769.000000</td>\n",
       "      <td>2769.000000</td>\n",
       "      <td>2769.000000</td>\n",
       "      <td>2769.000000</td>\n",
       "      <td>2769.000000</td>\n",
       "      <td>2.769000e+03</td>\n",
       "    </tr>\n",
       "    <tr>\n",
       "      <th>mean</th>\n",
       "      <td>67.239402</td>\n",
       "      <td>67.849310</td>\n",
       "      <td>66.571378</td>\n",
       "      <td>67.228947</td>\n",
       "      <td>63.430790</td>\n",
       "      <td>1.258370e+08</td>\n",
       "    </tr>\n",
       "    <tr>\n",
       "      <th>std</th>\n",
       "      <td>41.893997</td>\n",
       "      <td>42.162775</td>\n",
       "      <td>41.621215</td>\n",
       "      <td>41.902836</td>\n",
       "      <td>41.545765</td>\n",
       "      <td>9.921908e+07</td>\n",
       "    </tr>\n",
       "    <tr>\n",
       "      <th>min</th>\n",
       "      <td>11.164286</td>\n",
       "      <td>11.331429</td>\n",
       "      <td>10.967143</td>\n",
       "      <td>11.171429</td>\n",
       "      <td>10.050444</td>\n",
       "      <td>1.147590e+07</td>\n",
       "    </tr>\n",
       "    <tr>\n",
       "      <th>25%</th>\n",
       "      <td>26.578571</td>\n",
       "      <td>26.814285</td>\n",
       "      <td>26.121429</td>\n",
       "      <td>26.500000</td>\n",
       "      <td>23.840887</td>\n",
       "      <td>5.191570e+07</td>\n",
       "    </tr>\n",
       "    <tr>\n",
       "      <th>50%</th>\n",
       "      <td>62.704285</td>\n",
       "      <td>63.512856</td>\n",
       "      <td>62.028572</td>\n",
       "      <td>62.808571</td>\n",
       "      <td>57.449242</td>\n",
       "      <td>1.003660e+08</td>\n",
       "    </tr>\n",
       "    <tr>\n",
       "      <th>75%</th>\n",
       "      <td>100.290001</td>\n",
       "      <td>101.089996</td>\n",
       "      <td>99.250000</td>\n",
       "      <td>100.410004</td>\n",
       "      <td>96.162788</td>\n",
       "      <td>1.683752e+08</td>\n",
       "    </tr>\n",
       "    <tr>\n",
       "      <th>max</th>\n",
       "      <td>167.899994</td>\n",
       "      <td>169.649994</td>\n",
       "      <td>166.940002</td>\n",
       "      <td>169.039993</td>\n",
       "      <td>169.039993</td>\n",
       "      <td>8.432424e+08</td>\n",
       "    </tr>\n",
       "  </tbody>\n",
       "</table>\n",
       "</div>"
      ],
      "text/plain": [
       "              Open         High          Low        Close    Adj Close  \\\n",
       "count  2769.000000  2769.000000  2769.000000  2769.000000  2769.000000   \n",
       "mean     67.239402    67.849310    66.571378    67.228947    63.430790   \n",
       "std      41.893997    42.162775    41.621215    41.902836    41.545765   \n",
       "min      11.164286    11.331429    10.967143    11.171429    10.050444   \n",
       "25%      26.578571    26.814285    26.121429    26.500000    23.840887   \n",
       "50%      62.704285    63.512856    62.028572    62.808571    57.449242   \n",
       "75%     100.290001   101.089996    99.250000   100.410004    96.162788   \n",
       "max     167.899994   169.649994   166.940002   169.039993   169.039993   \n",
       "\n",
       "             Volume  \n",
       "count  2.769000e+03  \n",
       "mean   1.258370e+08  \n",
       "std    9.921908e+07  \n",
       "min    1.147590e+07  \n",
       "25%    5.191570e+07  \n",
       "50%    1.003660e+08  \n",
       "75%    1.683752e+08  \n",
       "max    8.432424e+08  "
      ]
     },
     "execution_count": 216,
     "metadata": {},
     "output_type": "execute_result"
    }
   ],
   "source": [
    "#statistics calculated\n",
    "AAPLData.describe()"
   ]
  },
  {
   "cell_type": "code",
   "execution_count": 217,
   "metadata": {},
   "outputs": [
    {
     "data": {
      "image/png": "[encoded data removed]",
      "text/plain": [
       "<matplotlib.figure.Figure at 0x10713bb10>"
      ]
     },
     "metadata": {},
     "output_type": "display_data"
    }
   ],
   "source": [
    "# plot the closing price over time\n",
    "cloPri=AAPLData[['Adj Close','Close']]\n",
    "cloPri.plot()\n",
    "plt.show()"
   ]
  },
  {
   "cell_type": "code",
   "execution_count": 218,
   "metadata": {
    "collapsed": true
   },
   "outputs": [],
   "source": [
    "# look into other stock data:\n",
    "##join multiple stock data:\n",
    "\n",
    "#Read Stock data \n",
    "def readStocks(symbols,dates):\n",
    "    #create empty dataframe:\n",
    "    df1=pd.DataFrame(index=dates)\n",
    "    for symbol in symbols:\n",
    "        dfStock=pd.read_csv(\"{}.csv\".format(symbol),index_col='Date',parse_dates=True, usecols=['Date','Adj Close'],na_values=['nan'])\n",
    "        dfStock=dfStock.rename(columns={'Adj Close':symbol})\n",
    "        #join dataset together:\n",
    "        df1=df1.join(dfStock,how='inner')\n",
    "    return df1"
   ]
  },
  {
   "cell_type": "code",
   "execution_count": 219,
   "metadata": {
    "collapsed": true
   },
   "outputs": [],
   "source": [
    "dates=pd.date_range('2010-10-31','2017-10-31')\n",
    "dfStocks=readStocks(['SPY','AMZN','DPZ'],dates)"
   ]
  },
  {
   "cell_type": "markdown",
   "metadata": {},
   "source": [
    "#### Plot the stocks on the same graph"
   ]
  },
  {
   "cell_type": "code",
   "execution_count": 220,
   "metadata": {},
   "outputs": [
    {
     "data": {
      "image/png": "[encoded data removed]",
      "text/plain": [
       "<matplotlib.figure.Figure at 0x108a8a150>"
      ]
     },
     "metadata": {},
     "output_type": "display_data"
    }
   ],
   "source": [
    "#plot these stock data together:\n",
    "def plotStocks(df,title):\n",
    "    ax=df.plot(title=title)\n",
    "    ax.set_xlabel('Date')\n",
    "    ax.set_ylabel('Price')\n",
    "    plt.show()\n",
    "\n",
    "plotStocks(dfStocks,'Closing Price')"
   ]
  },
  {
   "cell_type": "code",
   "execution_count": 221,
   "metadata": {
    "collapsed": true
   },
   "outputs": [],
   "source": [
    "def plot_selected(df, columns, start_index, end_index):\n",
    "    \"\"\"Plot the desired columns over index values in the given range.\"\"\"\n",
    "    dfTemp=df.loc[start_index:end_index,columns]\n",
    "    #normalize data\n",
    "    dfTemp=dfTemp/dfTemp.iloc[0,:]\n",
    "    ax=dfTemp.plot(title='Selected Data')\n",
    "    ax.set_xlabel('Date')\n",
    "    ax.set_ylabel('Price')\n",
    "    plt.show()\n",
    "\n"
   ]
  },
  {
   "cell_type": "code",
   "execution_count": 222,
   "metadata": {},
   "outputs": [
    {
     "data": {
      "image/png": "[encoded data removed]",
      "text/plain": [
       "<matplotlib.figure.Figure at 0x108b20b10>"
      ]
     },
     "metadata": {},
     "output_type": "display_data"
    },
    {
     "data": {
      "text/plain": [
       "SPY     239.341428\n",
       "AMZN    931.891048\n",
       "DPZ     190.138568\n",
       "dtype: float64"
      ]
     },
     "execution_count": 222,
     "metadata": {},
     "output_type": "execute_result"
    }
   ],
   "source": [
    "#Explore the data a little bit:\n",
    "plot_selected(dfStocks,['SPY','AMZN','DPZ'],'2017-01-01','2017-10-31')\n",
    "#calculate the mean of the stock for this year\n",
    "dfStocks.loc['2017-01-01':'2017-10-31',:].mean()"
   ]
  },
  {
   "cell_type": "code",
   "execution_count": 223,
   "metadata": {},
   "outputs": [
    {
     "data": {
      "text/plain": [
       "SPY      9.045985\n",
       "AMZN    73.182246\n",
       "DPZ     14.094605\n",
       "dtype: float64"
      ]
     },
     "execution_count": 223,
     "metadata": {},
     "output_type": "execute_result"
    }
   ],
   "source": [
    "#calculate standard deviation for the volitility of the stock\n",
    "dfStocks.loc['2017-01-01':'2017-10-31',:].std()"
   ]
  },
  {
   "cell_type": "markdown",
   "metadata": {},
   "source": [
    "#### Explore the Rollinger Bands"
   ]
  },
  {
   "cell_type": "code",
   "execution_count": 224,
   "metadata": {},
   "outputs": [
    {
     "data": {
      "image/png": "[encoded data removed]",
      "text/plain": [
       "<matplotlib.figure.Figure at 0x10c2b2290>"
      ]
     },
     "metadata": {},
     "output_type": "display_data"
    }
   ],
   "source": [
    "### If stock price is out of rollinger bands, then it presents a buying or selling opportunity\n",
    "ax=dfStocks.loc['2016-10-31':'2017-10-31','AMZN'].plot(label='AMZN')\n",
    "rm_AMZN=dfStocks.loc['2016-10-31':'2017-10-31','AMZN'].rolling(window=20,center=False).mean()\n",
    "rs_AMZN=dfStocks.loc['2016-10-31':'2017-10-31','AMZN'].rolling(window=20,center=False).std()\n",
    "(rm_AMZN+rs_AMZN).plot(label='upband',ax=ax)\n",
    "(rm_AMZN-rs_AMZN).plot(label='lowerband',ax=ax)\n",
    "ax.set_xlabel('Date')\n",
    "ax.set_ylabel('Price')\n",
    "ax.legend()\n",
    "plt.show()\n",
    "\n"
   ]
  },
  {
   "cell_type": "markdown",
   "metadata": {},
   "source": [
    "#### Explore the cumulative returns of SPY and a certain stock"
   ]
  },
  {
   "cell_type": "code",
   "execution_count": 225,
   "metadata": {},
   "outputs": [
    {
     "data": {
      "image/png": "[encoded data removed]",
      "text/plain": [
       "<matplotlib.figure.Figure at 0x10c3917d0>"
      ]
     },
     "metadata": {},
     "output_type": "display_data"
    }
   ],
   "source": [
    "### Daily return tells important information about stock performance\n",
    "def compute_cuReturns(df):\n",
    "    dReturns=df.copy()\n",
    "    dReturns=dReturns/dReturns[0]-1\n",
    "    return dReturns\n",
    "dRSPY=compute_cuReturns(dfStocks.loc['2016-10-31':'2017-10-31','SPY'])\n",
    "dRAMZN=compute_cuReturns(dfStocks.loc['2016-10-31':'2017-10-31','AMZN'])\n",
    "ax=dRSPY.plot()\n",
    "dRAMZN.plot(ax=ax)\n",
    "ax.legend()\n",
    "plt.show()"
   ]
  },
  {
   "cell_type": "markdown",
   "metadata": {},
   "source": [
    "##### From the graph it can be seen that AMZN returns spikes at the end of October 2017, while it underperformed at the end of 2016"
   ]
  },
  {
   "cell_type": "markdown",
   "metadata": {},
   "source": [
    "----\n",
    "## Preparing the Data\n",
    "Before data can be used as input for machine learning algorithms, it often must be cleaned, formatted, and restructured — this is typically known as **preprocessing**. For this dataset, the stock price might be missing for holidays or certain days. This preprocessing can help tremendously with the outcome and predictive power of nearly all learning algorithms."
   ]
  },
  {
   "cell_type": "code",
   "execution_count": 226,
   "metadata": {
    "collapsed": true
   },
   "outputs": [],
   "source": [
    "dates=pd.date_range('2006-10-31','2017-10-31')\n",
    "stickers=['SPY','AMZN','DPZ','IHG','MSFT','C','EBAY','DIS','GOOG','AAPL']\n",
    "dfStocks=readStocks(stickers,dates)"
   ]
  },
  {
   "cell_type": "code",
   "execution_count": 227,
   "metadata": {},
   "outputs": [
    {
     "data": {
      "text/html": [
       "<div>\n",
       "<style>\n",
       "    .dataframe thead tr:only-child th {\n",
       "        text-align: right;\n",
       "    }\n",
       "\n",
       "    .dataframe thead th {\n",
       "        text-align: left;\n",
       "    }\n",
       "\n",
       "    .dataframe tbody tr th {\n",
       "        vertical-align: top;\n",
       "    }\n",
       "</style>\n",
       "<table border=\"1\" class=\"dataframe\">\n",
       "  <thead>\n",
       "    <tr style=\"text-align: right;\">\n",
       "      <th></th>\n",
       "      <th>SPY</th>\n",
       "      <th>AMZN</th>\n",
       "      <th>DPZ</th>\n",
       "      <th>IHG</th>\n",
       "      <th>MSFT</th>\n",
       "      <th>C</th>\n",
       "      <th>EBAY</th>\n",
       "      <th>DIS</th>\n",
       "      <th>GOOG</th>\n",
       "      <th>AAPL</th>\n",
       "    </tr>\n",
       "  </thead>\n",
       "  <tbody>\n",
       "    <tr>\n",
       "      <th>2006-11-01</th>\n",
       "      <td>108.977386</td>\n",
       "      <td>37.560001</td>\n",
       "      <td>13.628567</td>\n",
       "      <td>21.336660</td>\n",
       "      <td>22.193466</td>\n",
       "      <td>436.957855</td>\n",
       "      <td>13.228114</td>\n",
       "      <td>26.596134</td>\n",
       "      <td>232.239502</td>\n",
       "      <td>10.173827</td>\n",
       "    </tr>\n",
       "    <tr>\n",
       "      <th>2006-11-02</th>\n",
       "      <td>108.913704</td>\n",
       "      <td>37.450001</td>\n",
       "      <td>13.384657</td>\n",
       "      <td>21.380911</td>\n",
       "      <td>22.162653</td>\n",
       "      <td>438.191162</td>\n",
       "      <td>13.695286</td>\n",
       "      <td>26.570990</td>\n",
       "      <td>233.436722</td>\n",
       "      <td>10.150690</td>\n",
       "    </tr>\n",
       "    <tr>\n",
       "      <th>2006-11-03</th>\n",
       "      <td>108.722549</td>\n",
       "      <td>37.459999</td>\n",
       "      <td>13.201723</td>\n",
       "      <td>21.502575</td>\n",
       "      <td>22.131840</td>\n",
       "      <td>436.869812</td>\n",
       "      <td>13.632154</td>\n",
       "      <td>26.730242</td>\n",
       "      <td>234.375610</td>\n",
       "      <td>10.062012</td>\n",
       "    </tr>\n",
       "    <tr>\n",
       "      <th>2006-11-06</th>\n",
       "      <td>109.948830</td>\n",
       "      <td>38.209999</td>\n",
       "      <td>13.684464</td>\n",
       "      <td>22.044571</td>\n",
       "      <td>22.216583</td>\n",
       "      <td>442.419891</td>\n",
       "      <td>13.783670</td>\n",
       "      <td>27.208019</td>\n",
       "      <td>236.933975</td>\n",
       "      <td>10.244513</td>\n",
       "    </tr>\n",
       "    <tr>\n",
       "      <th>2006-11-07</th>\n",
       "      <td>110.370811</td>\n",
       "      <td>38.770000</td>\n",
       "      <td>13.699708</td>\n",
       "      <td>22.387455</td>\n",
       "      <td>22.301319</td>\n",
       "      <td>444.710388</td>\n",
       "      <td>13.699495</td>\n",
       "      <td>27.534922</td>\n",
       "      <td>234.758118</td>\n",
       "      <td>10.347329</td>\n",
       "    </tr>\n",
       "  </tbody>\n",
       "</table>\n",
       "</div>"
      ],
      "text/plain": [
       "                   SPY       AMZN        DPZ        IHG       MSFT  \\\n",
       "2006-11-01  108.977386  37.560001  13.628567  21.336660  22.193466   \n",
       "2006-11-02  108.913704  37.450001  13.384657  21.380911  22.162653   \n",
       "2006-11-03  108.722549  37.459999  13.201723  21.502575  22.131840   \n",
       "2006-11-06  109.948830  38.209999  13.684464  22.044571  22.216583   \n",
       "2006-11-07  110.370811  38.770000  13.699708  22.387455  22.301319   \n",
       "\n",
       "                     C       EBAY        DIS        GOOG       AAPL  \n",
       "2006-11-01  436.957855  13.228114  26.596134  232.239502  10.173827  \n",
       "2006-11-02  438.191162  13.695286  26.570990  233.436722  10.150690  \n",
       "2006-11-03  436.869812  13.632154  26.730242  234.375610  10.062012  \n",
       "2006-11-06  442.419891  13.783670  27.208019  236.933975  10.244513  \n",
       "2006-11-07  444.710388  13.699495  27.534922  234.758118  10.347329  "
      ]
     },
     "execution_count": 227,
     "metadata": {},
     "output_type": "execute_result"
    }
   ],
   "source": [
    "dfStocks.head()"
   ]
  },
  {
   "cell_type": "markdown",
   "metadata": {},
   "source": [
    "### Shuffle and Split Data\n",
    "Now all stock closing prices have been converted into numerical features. As always, we will now split the data (both features and their labels) into training and test sets. 80% of the data will be used for training and 20% for testing.\n",
    "\n",
    "With time series predictions, it's crucial to avoid random splitting, and do it in a chronological fashion, so that testing data information does not leak into training process. For example, if the price of a stock on July 14th and July 16th are in training, and July 15th is in testing, it's going to be really easy for the model to interpolate and guess the 15th perfectly, because it has \"seen the future\". "
   ]
  },
  {
   "cell_type": "markdown",
   "metadata": {
    "collapsed": true
   },
   "source": [
    "#### In this part, AAPL data will be examined. A week's data will be used to predict the closing price 3 days later."
   ]
  },
  {
   "cell_type": "code",
   "execution_count": 228,
   "metadata": {
    "collapsed": true
   },
   "outputs": [],
   "source": [
    "#features will be closing data for a week:\n",
    "data_aapl=dfStocks['AAPL'].to_frame(name = 'Day0')\n",
    "\n",
    "for i in range(1,7):\n",
    "    data_temp=dfStocks['AAPL'].shift(-i)\n",
    "    data_aapl=data_aapl.join(data_temp.to_frame(name='Day{}'.format(i)), how='inner')\n",
    "\n",
    "#last collumn is price after 3 days:    \n",
    "data_temp=dfStocks['AAPL'].shift(-9)\n",
    "data_aapl=data_aapl.join(data_temp.to_frame(name='Day{}'.format('9')), how='inner')\n",
    "data_aapl=data_aapl.dropna()"
   ]
  },
  {
   "cell_type": "code",
   "execution_count": 229,
   "metadata": {
    "collapsed": true
   },
   "outputs": [],
   "source": [
    "#split into features and price\n",
    "price_final=data_aapl['Day9']\n",
    "features_final=data_aapl.drop('Day9', axis = 1)"
   ]
  },
  {
   "cell_type": "code",
   "execution_count": 230,
   "metadata": {},
   "outputs": [
    {
     "data": {
      "text/html": [
       "<div>\n",
       "<style>\n",
       "    .dataframe thead tr:only-child th {\n",
       "        text-align: right;\n",
       "    }\n",
       "\n",
       "    .dataframe thead th {\n",
       "        text-align: left;\n",
       "    }\n",
       "\n",
       "    .dataframe tbody tr th {\n",
       "        vertical-align: top;\n",
       "    }\n",
       "</style>\n",
       "<table border=\"1\" class=\"dataframe\">\n",
       "  <thead>\n",
       "    <tr style=\"text-align: right;\">\n",
       "      <th></th>\n",
       "      <th>Day0</th>\n",
       "      <th>Day1</th>\n",
       "      <th>Day2</th>\n",
       "      <th>Day3</th>\n",
       "      <th>Day4</th>\n",
       "      <th>Day5</th>\n",
       "      <th>Day6</th>\n",
       "    </tr>\n",
       "  </thead>\n",
       "  <tbody>\n",
       "    <tr>\n",
       "      <th>2006-11-01</th>\n",
       "      <td>10.173827</td>\n",
       "      <td>10.150690</td>\n",
       "      <td>10.062012</td>\n",
       "      <td>10.244513</td>\n",
       "      <td>10.347329</td>\n",
       "      <td>10.596662</td>\n",
       "      <td>10.711047</td>\n",
       "    </tr>\n",
       "    <tr>\n",
       "      <th>2006-11-02</th>\n",
       "      <td>10.150690</td>\n",
       "      <td>10.062012</td>\n",
       "      <td>10.244513</td>\n",
       "      <td>10.347329</td>\n",
       "      <td>10.596662</td>\n",
       "      <td>10.711047</td>\n",
       "      <td>10.682772</td>\n",
       "    </tr>\n",
       "    <tr>\n",
       "      <th>2006-11-03</th>\n",
       "      <td>10.062012</td>\n",
       "      <td>10.244513</td>\n",
       "      <td>10.347329</td>\n",
       "      <td>10.596662</td>\n",
       "      <td>10.711047</td>\n",
       "      <td>10.682772</td>\n",
       "      <td>10.840854</td>\n",
       "    </tr>\n",
       "    <tr>\n",
       "      <th>2006-11-06</th>\n",
       "      <td>10.244513</td>\n",
       "      <td>10.347329</td>\n",
       "      <td>10.596662</td>\n",
       "      <td>10.711047</td>\n",
       "      <td>10.682772</td>\n",
       "      <td>10.840854</td>\n",
       "      <td>10.924394</td>\n",
       "    </tr>\n",
       "    <tr>\n",
       "      <th>2006-11-07</th>\n",
       "      <td>10.347329</td>\n",
       "      <td>10.596662</td>\n",
       "      <td>10.711047</td>\n",
       "      <td>10.682772</td>\n",
       "      <td>10.840854</td>\n",
       "      <td>10.924394</td>\n",
       "      <td>10.802297</td>\n",
       "    </tr>\n",
       "  </tbody>\n",
       "</table>\n",
       "</div>"
      ],
      "text/plain": [
       "                 Day0       Day1       Day2       Day3       Day4       Day5  \\\n",
       "2006-11-01  10.173827  10.150690  10.062012  10.244513  10.347329  10.596662   \n",
       "2006-11-02  10.150690  10.062012  10.244513  10.347329  10.596662  10.711047   \n",
       "2006-11-03  10.062012  10.244513  10.347329  10.596662  10.711047  10.682772   \n",
       "2006-11-06  10.244513  10.347329  10.596662  10.711047  10.682772  10.840854   \n",
       "2006-11-07  10.347329  10.596662  10.711047  10.682772  10.840854  10.924394   \n",
       "\n",
       "                 Day6  \n",
       "2006-11-01  10.711047  \n",
       "2006-11-02  10.682772  \n",
       "2006-11-03  10.840854  \n",
       "2006-11-06  10.924394  \n",
       "2006-11-07  10.802297  "
      ]
     },
     "execution_count": 230,
     "metadata": {},
     "output_type": "execute_result"
    }
   ],
   "source": [
    "features_final.head()"
   ]
  },
  {
   "cell_type": "code",
   "execution_count": 231,
   "metadata": {},
   "outputs": [
    {
     "data": {
      "text/plain": [
       "2006-11-01    10.924394\n",
       "2006-11-02    10.802297\n",
       "2006-11-03    11.002795\n",
       "2006-11-06    11.033639\n",
       "2006-11-07    11.113322\n",
       "Name: Day9, dtype: float64"
      ]
     },
     "execution_count": 231,
     "metadata": {},
     "output_type": "execute_result"
    }
   ],
   "source": [
    "price_final.head()"
   ]
  },
  {
   "cell_type": "code",
   "execution_count": 232,
   "metadata": {
    "collapsed": true
   },
   "outputs": [],
   "source": [
    "#for financial data, random split is not appropiate:\n",
    "def split_data(X,y):\n",
    "    #for financial data, random split is not appropiate:\n",
    "    split_point=int(np.floor(len(y)*0.8))\n",
    "    #print \"Training set has {} samples.\".format(split_point)\n",
    "    #print \"Testing set has {} samples.\".format(len(price_final)-split_point)\n",
    "    X_train=X[:split_point]\n",
    "    X_test=X[split_point:]\n",
    "    y_train=y[:split_point]\n",
    "    y_test=y[split_point:]\n",
    "    return X_train, X_test, y_train, y_test\n",
    "\n",
    "X_train, X_test, y_train, y_test=split_data(features_final,price_final)"
   ]
  },
  {
   "cell_type": "markdown",
   "metadata": {},
   "source": [
    "----\n",
    "## Evaluating Model Performance\n",
    "In this section, we will investigate different algorithms, and determine which is best at modeling the data. One of the algorithms is known as a *naive predictor*, which will be the benchmark predictor."
   ]
  },
  {
   "cell_type": "code",
   "execution_count": 233,
   "metadata": {
    "collapsed": true
   },
   "outputs": [],
   "source": [
    "#one naive predictor is to use the data of the first Day and the last Day to predict the stock price\n",
    "# use a linear model"
   ]
  },
  {
   "cell_type": "code",
   "execution_count": 234,
   "metadata": {
    "collapsed": true
   },
   "outputs": [],
   "source": [
    "def naive_predictor0(X_test):\n",
    "    #features will be closing data for a week:\n",
    "    data_spy=dfStocks['SPY']\n",
    "    p1=data_spy.iloc[0]\n",
    "    p2=data_spy.iloc[-1]\n",
    "    increase_rate=(p2-p1)/p1/len(data_spy)\n",
    "    price1=X_test['Day0']\n",
    "    return price1*(1+increase_rate*9)\n",
    "price_predict0=naive_predictor0(X_test)"
   ]
  },
  {
   "cell_type": "code",
   "execution_count": 235,
   "metadata": {},
   "outputs": [
    {
     "name": "stdout",
     "output_type": "stream",
     "text": [
      "The testing error using the naive predictor is 0.0422909816167\n"
     ]
    }
   ],
   "source": [
    "# Evaluate Model using RMS error:\n",
    "def ERMS_cal(y_predict,y_test):\n",
    "    errors=(y_predict-y_test)/y_test\n",
    "    ##root mean square error:\n",
    "    ERMS=((errors**2).mean())**0.5\n",
    "    return ERMS\n",
    "\n",
    "print('The testing error using the naive predictor is {}'.format(ERMS_cal(price_predict0,y_test)))"
   ]
  },
  {
   "cell_type": "code",
   "execution_count": 236,
   "metadata": {},
   "outputs": [
    {
     "name": "stdout",
     "output_type": "stream",
     "text": [
      "The training error (root mean square error) using the naive predictor is 0.0665010977116\n"
     ]
    }
   ],
   "source": [
    "y_pred_train0=naive_predictor0(X_train)\n",
    "print('The training error (root mean square error) using the naive predictor is {}'.format(ERMS_cal(y_pred_train0,y_train)))"
   ]
  },
  {
   "cell_type": "markdown",
   "metadata": {},
   "source": [
    "#####  Use linear regression to predict the price"
   ]
  },
  {
   "cell_type": "code",
   "execution_count": 294,
   "metadata": {},
   "outputs": [],
   "source": [
    "from sklearn import  linear_model\n",
    "def pred_Linear(X_train, y_train, X_test):\n",
    "    regr = linear_model.LinearRegression()\n",
    "    regr.fit(X_train, y_train)\n",
    "    y_pred = regr.predict(X_test)\n",
    "    return y_pred\n",
    "\n",
    "y_pred1=pred_Linear(X_train, y_train, X_test)"
   ]
  },
  {
   "cell_type": "code",
   "execution_count": 295,
   "metadata": {},
   "outputs": [
    {
     "name": "stdout",
     "output_type": "stream",
     "text": [
      "The testing error (root mean square error) using the linear regression predictor is 0.0248579168131\n"
     ]
    }
   ],
   "source": [
    "print('The testing error (root mean square error) using the linear regression predictor is {}'.format(ERMS_cal(y_pred1,y_test)))"
   ]
  },
  {
   "cell_type": "code",
   "execution_count": 296,
   "metadata": {},
   "outputs": [
    {
     "name": "stdout",
     "output_type": "stream",
     "text": [
      "The training eroor (root mean square error) using the naive predictor is 0.037196822104\n"
     ]
    }
   ],
   "source": [
    "#also report the training error:\n",
    "y_pred_train1=pred_Linear(X_train, y_train, X_train)\n",
    "print('The training eroor (root mean square error) using the naive predictor is {}'.format(ERMS_cal(y_pred_train1,y_train)))"
   ]
  },
  {
   "cell_type": "code",
   "execution_count": 297,
   "metadata": {},
   "outputs": [
    {
     "data": {
      "image/png": "[encoded data removed]",
      "text/plain": [
       "<matplotlib.figure.Figure at 0x108eefad0>"
      ]
     },
     "metadata": {},
     "output_type": "display_data"
    }
   ],
   "source": [
    "fig, ax = plt.subplots()\n",
    "ax.scatter(y_test, y_pred1, edgecolors=(0, 0, 0))\n",
    "#ax.plot([y.min(), y.max()], [y.min(), y.max()], 'k--', lw=4)\n",
    "ax.set_xlabel('Measured')\n",
    "ax.set_ylabel('Predicted')\n",
    "plt.show()"
   ]
  },
  {
   "cell_type": "code",
   "execution_count": 303,
   "metadata": {},
   "outputs": [
    {
     "data": {
      "image/png": "[encoded data removed]",
      "text/plain": [
       "<matplotlib.figure.Figure at 0x10d212e90>"
      ]
     },
     "metadata": {},
     "output_type": "display_data"
    }
   ],
   "source": [
    "##Freeform visualization:\n",
    "ax=y_test.plot(label='Actual price')\n",
    "ax.set_ylabel('Adjusted closing price')\n",
    "predicted_price=pd.Series(data=y_pred1, index=y_test.index)\n",
    "predicted_price.plot(ax=ax,label='Predicted price')\n",
    "ax.legend()\n",
    "plt.show()"
   ]
  },
  {
   "cell_type": "code",
   "execution_count": 241,
   "metadata": {
    "collapsed": true
   },
   "outputs": [],
   "source": [
    "## test model on other stocks:\n",
    "def compile_data(sticker):\n",
    "    data_sticker=dfStocks[sticker].to_frame(name = 'Day0')\n",
    "\n",
    "    for i in range(1,7):\n",
    "        data_temp=dfStocks[sticker].shift(-i)\n",
    "        data_sticker=data_sticker.join(data_temp.to_frame(name='Day{}'.format(i)), how='inner')\n",
    "\n",
    "    #last collumn is price after 3 days:    \n",
    "    data_temp=dfStocks[sticker].shift(-9)\n",
    "    data_sticker=data_sticker.join(data_temp.to_frame(name='Day{}'.format('9')), how='inner')\n",
    "    data_sticker=data_sticker.dropna()\n",
    "    #split into features and price\n",
    "    price_final=data_sticker['Day9']\n",
    "    features_final=data_sticker.drop('Day9', axis = 1)\n",
    "    X_train, X_test, y_train, y_test=split_data(features_final,price_final)\n",
    "    return X_train, X_test, y_train, y_test\n",
    "    \n",
    "\n",
    "\n"
   ]
  },
  {
   "cell_type": "code",
   "execution_count": 267,
   "metadata": {},
   "outputs": [],
   "source": [
    "ErrorNaive=[]\n",
    "ErrorLinear=[]\n",
    "for sticker in stickers:\n",
    "    X_train, X_test, y_train, y_test= compile_data(sticker)\n",
    "    y_2=pred_Linear(X_train, y_train, X_test)\n",
    "    y_1=naive_predictor0(X_test)\n",
    "    ErrorNaive.append(ERMS_cal(y_1,y_test))\n",
    "    ErrorLinear.append(ERMS_cal(y_2,y_test))"
   ]
  },
  {
   "cell_type": "code",
   "execution_count": 268,
   "metadata": {},
   "outputs": [
    {
     "data": {
      "text/html": [
       "<div>\n",
       "<style>\n",
       "    .dataframe thead tr:only-child th {\n",
       "        text-align: right;\n",
       "    }\n",
       "\n",
       "    .dataframe thead th {\n",
       "        text-align: left;\n",
       "    }\n",
       "\n",
       "    .dataframe tbody tr th {\n",
       "        vertical-align: top;\n",
       "    }\n",
       "</style>\n",
       "<table border=\"1\" class=\"dataframe\">\n",
       "  <thead>\n",
       "    <tr style=\"text-align: right;\">\n",
       "      <th></th>\n",
       "      <th>Linear</th>\n",
       "      <th>Naive</th>\n",
       "    </tr>\n",
       "  </thead>\n",
       "  <tbody>\n",
       "    <tr>\n",
       "      <th>SPY</th>\n",
       "      <td>0.012889</td>\n",
       "      <td>0.021630</td>\n",
       "    </tr>\n",
       "    <tr>\n",
       "      <th>AMZN</th>\n",
       "      <td>0.030492</td>\n",
       "      <td>0.048409</td>\n",
       "    </tr>\n",
       "    <tr>\n",
       "      <th>DPZ</th>\n",
       "      <td>0.029084</td>\n",
       "      <td>0.050179</td>\n",
       "    </tr>\n",
       "    <tr>\n",
       "      <th>IHG</th>\n",
       "      <td>0.026133</td>\n",
       "      <td>0.044699</td>\n",
       "    </tr>\n",
       "    <tr>\n",
       "      <th>MSFT</th>\n",
       "      <td>0.022796</td>\n",
       "      <td>0.036328</td>\n",
       "    </tr>\n",
       "    <tr>\n",
       "      <th>C</th>\n",
       "      <td>0.030422</td>\n",
       "      <td>0.050711</td>\n",
       "    </tr>\n",
       "    <tr>\n",
       "      <th>EBAY</th>\n",
       "      <td>0.028697</td>\n",
       "      <td>0.048482</td>\n",
       "    </tr>\n",
       "    <tr>\n",
       "      <th>DIS</th>\n",
       "      <td>0.018621</td>\n",
       "      <td>0.032386</td>\n",
       "    </tr>\n",
       "    <tr>\n",
       "      <th>GOOG</th>\n",
       "      <td>0.022760</td>\n",
       "      <td>0.035692</td>\n",
       "    </tr>\n",
       "    <tr>\n",
       "      <th>AAPL</th>\n",
       "      <td>0.024858</td>\n",
       "      <td>0.042291</td>\n",
       "    </tr>\n",
       "  </tbody>\n",
       "</table>\n",
       "</div>"
      ],
      "text/plain": [
       "        Linear     Naive\n",
       "SPY   0.012889  0.021630\n",
       "AMZN  0.030492  0.048409\n",
       "DPZ   0.029084  0.050179\n",
       "IHG   0.026133  0.044699\n",
       "MSFT  0.022796  0.036328\n",
       "C     0.030422  0.050711\n",
       "EBAY  0.028697  0.048482\n",
       "DIS   0.018621  0.032386\n",
       "GOOG  0.022760  0.035692\n",
       "AAPL  0.024858  0.042291"
      ]
     },
     "execution_count": 268,
     "metadata": {},
     "output_type": "execute_result"
    }
   ],
   "source": [
    "Error_compare=pd.DataFrame(data={'Naive':ErrorNaive,'Linear':ErrorLinear},index=stickers)\n",
    "Error_compare"
   ]
  },
  {
   "cell_type": "code",
   "execution_count": 270,
   "metadata": {},
   "outputs": [
    {
     "data": {
      "text/html": [
       "<div>\n",
       "<style>\n",
       "    .dataframe thead tr:only-child th {\n",
       "        text-align: right;\n",
       "    }\n",
       "\n",
       "    .dataframe thead th {\n",
       "        text-align: left;\n",
       "    }\n",
       "\n",
       "    .dataframe tbody tr th {\n",
       "        vertical-align: top;\n",
       "    }\n",
       "</style>\n",
       "<table border=\"1\" class=\"dataframe\">\n",
       "  <thead>\n",
       "    <tr style=\"text-align: right;\">\n",
       "      <th></th>\n",
       "      <th>Linear</th>\n",
       "      <th>Naive</th>\n",
       "    </tr>\n",
       "  </thead>\n",
       "  <tbody>\n",
       "    <tr>\n",
       "      <th>count</th>\n",
       "      <td>10.000000</td>\n",
       "      <td>10.000000</td>\n",
       "    </tr>\n",
       "    <tr>\n",
       "      <th>mean</th>\n",
       "      <td>0.024675</td>\n",
       "      <td>0.041081</td>\n",
       "    </tr>\n",
       "    <tr>\n",
       "      <th>std</th>\n",
       "      <td>0.005651</td>\n",
       "      <td>0.009452</td>\n",
       "    </tr>\n",
       "    <tr>\n",
       "      <th>min</th>\n",
       "      <td>0.012889</td>\n",
       "      <td>0.021630</td>\n",
       "    </tr>\n",
       "    <tr>\n",
       "      <th>25%</th>\n",
       "      <td>0.022769</td>\n",
       "      <td>0.035851</td>\n",
       "    </tr>\n",
       "    <tr>\n",
       "      <th>50%</th>\n",
       "      <td>0.025495</td>\n",
       "      <td>0.043495</td>\n",
       "    </tr>\n",
       "    <tr>\n",
       "      <th>75%</th>\n",
       "      <td>0.028987</td>\n",
       "      <td>0.048464</td>\n",
       "    </tr>\n",
       "    <tr>\n",
       "      <th>max</th>\n",
       "      <td>0.030492</td>\n",
       "      <td>0.050711</td>\n",
       "    </tr>\n",
       "  </tbody>\n",
       "</table>\n",
       "</div>"
      ],
      "text/plain": [
       "          Linear      Naive\n",
       "count  10.000000  10.000000\n",
       "mean    0.024675   0.041081\n",
       "std     0.005651   0.009452\n",
       "min     0.012889   0.021630\n",
       "25%     0.022769   0.035851\n",
       "50%     0.025495   0.043495\n",
       "75%     0.028987   0.048464\n",
       "max     0.030492   0.050711"
      ]
     },
     "execution_count": 270,
     "metadata": {},
     "output_type": "execute_result"
    }
   ],
   "source": [
    "Error_compare.describe()"
   ]
  },
  {
   "cell_type": "code",
   "execution_count": 244,
   "metadata": {},
   "outputs": [
    {
     "data": {
      "image/png": "[encoded data removed]",
      "text/plain": [
       "<matplotlib.figure.Figure at 0x102a54210>"
      ]
     },
     "metadata": {},
     "output_type": "display_data"
    }
   ],
   "source": [
    "ax=Error.plot.bar()\n",
    "ax.set_ylabel('ERMS')\n",
    "plt.show()"
   ]
  },
  {
   "cell_type": "markdown",
   "metadata": {},
   "source": [
    "#####  Use KNN regression to predict the price"
   ]
  },
  {
   "cell_type": "code",
   "execution_count": 245,
   "metadata": {
    "collapsed": true
   },
   "outputs": [],
   "source": [
    "from sklearn.neighbors import KNeighborsRegressor\n",
    "def pred_KNN(X_train, y_train, X_test, n):\n",
    "    neigh = KNeighborsRegressor(n_neighbors=n)\n",
    "    neigh.fit(X_train, y_train)\n",
    "    y_pred=neigh.predict(X_test)\n",
    "    y_pred=pd.Series(data=y_pred, index=X_test.index)\n",
    "    return y_pred"
   ]
  },
  {
   "cell_type": "code",
   "execution_count": 246,
   "metadata": {},
   "outputs": [
    {
     "name": "stdout",
     "output_type": "stream",
     "text": [
      "KNN gives root mean squared error is 0.104814245323\n"
     ]
    }
   ],
   "source": [
    "X_train, X_test, y_train, y_test= compile_data('AAPL')\n",
    "y_pred2=pred_KNN(X_train, y_train, X_test, 5)\n",
    "print('KNN gives root mean squared error is {}'.format(ERMS_cal(y_pred2,y_test)))"
   ]
  },
  {
   "cell_type": "code",
   "execution_count": 247,
   "metadata": {},
   "outputs": [
    {
     "name": "stdout",
     "output_type": "stream",
     "text": [
      "The training eroor (root mean square error) using the kNN predictor is 0.0310635688547\n"
     ]
    }
   ],
   "source": [
    "#also report the training error:\n",
    "y_pred_train2=pred_KNN(X_train, y_train, X_train,5)\n",
    "print('The training eroor (root mean square error) using the kNN predictor is {}'.format(ERMS_cal(y_pred_train2,y_train)))"
   ]
  },
  {
   "cell_type": "markdown",
   "metadata": {},
   "source": [
    "----\n",
    "## Refinement: improving Results\n",
    "In this final section, a search optimization will be performed for the model over the entire training set (`X_train` and `y_train`) by tuning at least one parameter."
   ]
  },
  {
   "cell_type": "code",
   "execution_count": 248,
   "metadata": {
    "collapsed": true
   },
   "outputs": [],
   "source": [
    "# A improvement for the naive predictor using individual stock price rather than SPY\n",
    "def naive_predictor(X_test):\n",
    "    p1=X_test['Day0']\n",
    "    p2=X_test['Day6']\n",
    "    y_pred=(p2-p1)/6*9+p1\n",
    "    return y_pred\n",
    "\n",
    "price_predict=naive_predictor(X_test)"
   ]
  },
  {
   "cell_type": "code",
   "execution_count": 249,
   "metadata": {},
   "outputs": [
    {
     "name": "stdout",
     "output_type": "stream",
     "text": [
      "The root mean square error using the naive predictor is 0.0303040548241\n"
     ]
    }
   ],
   "source": [
    "print('The root mean square error using the naive predictor is {}'.format(ERMS_cal(price_predict,y_test)))"
   ]
  },
  {
   "cell_type": "code",
   "execution_count": 250,
   "metadata": {
    "collapsed": true
   },
   "outputs": [],
   "source": [
    "#Refinement for linear regression"
   ]
  },
  {
   "cell_type": "code",
   "execution_count": 251,
   "metadata": {
    "collapsed": true
   },
   "outputs": [],
   "source": [
    "# one parameter that can be tuned is the number of days used in the training set:\n",
    "def compile_data_Nday(sticker,dates,N):\n",
    "    stickers=['SPY','AMZN','DPZ','IHG','MSFT','C','EBAY','DIS','GOOG','AAPL']\n",
    "    dfStocks=readStocks(stickers,dates)\n",
    "    data_sticker=dfStocks[sticker].to_frame(name = 'Day0')\n",
    "\n",
    "    for i in range(1,N):\n",
    "        data_temp=dfStocks[sticker].shift(-i)\n",
    "        data_sticker=data_sticker.join(data_temp.to_frame(name='Day{}'.format(i)), how='inner')\n",
    "\n",
    "    #last collumn is price after 3 days: \n",
    "    estimate_day=N+2\n",
    "    data_temp=dfStocks[sticker].shift(-estimate_day)\n",
    "    data_sticker=data_sticker.join(data_temp.to_frame(name='Day{}'.format(estimate_day)), how='inner')\n",
    "    data_sticker=data_sticker.dropna()\n",
    "    #split into features and price\n",
    "    price_final=data_sticker['Day{}'.format(estimate_day)]\n",
    "    features_final=data_sticker.drop('Day{}'.format(estimate_day), axis = 1)\n",
    "    X_train, X_test, y_train, y_test=split_data(features_final,price_final)\n",
    "    return X_train, X_test, y_train, y_test\n"
   ]
  },
  {
   "cell_type": "code",
   "execution_count": 252,
   "metadata": {},
   "outputs": [
    {
     "data": {
      "image/png": "[encoded data removed]",
      "text/plain": [
       "<matplotlib.figure.Figure at 0x108b0b7d0>"
      ]
     },
     "metadata": {},
     "output_type": "display_data"
    }
   ],
   "source": [
    "ErrorDay=[]\n",
    "train_days=list(range(1,30))\n",
    "dates=pd.date_range('2006-10-31','2014-10-31')\n",
    "for N in train_days:\n",
    "    X_tr, X_cross, y_tr, y_cross= compile_data_Nday('AAPL',dates,N)\n",
    "    # split training data into train and cross_validation data:\n",
    "    #X_tr, X_cross, y_tr, y_cross=split_data(X_train,y_train)\n",
    "    y_pre=pred_Linear(X_tr, y_tr, X_cross)\n",
    "    ErrorDay.append(ERMS_cal(y_pre,y_cross))\n",
    "\n",
    "Error=pd.Series(data=ErrorDay, index=train_days)\n",
    "ax=Error.plot()\n",
    "ax.set_ylabel('Error')\n",
    "ax.set_xlabel('Days used in training')\n",
    "plt.show()"
   ]
  },
  {
   "cell_type": "code",
   "execution_count": 253,
   "metadata": {},
   "outputs": [
    {
     "name": "stdout",
     "output_type": "stream",
     "text": [
      "The testing error using the improved linear predictor is 0.0248567425769\n"
     ]
    }
   ],
   "source": [
    "dates=pd.date_range('2006-10-31','2017-10-31')\n",
    "X_train, X_test, y_train, y_test= compile_data_Nday('AAPL',dates,14)\n",
    "y_pre3=pred_Linear(X_train, y_train, X_test)\n",
    "print('The testing error using the improved linear predictor is {}'.format(ERMS_cal(y_pre3,y_test)))"
   ]
  },
  {
   "cell_type": "code",
   "execution_count": 254,
   "metadata": {},
   "outputs": [
    {
     "name": "stdout",
     "output_type": "stream",
     "text": [
      "The training error using the improved linear predictor is 0.0373639215996\n"
     ]
    }
   ],
   "source": [
    "#training error:\n",
    "y_pre_train3=pred_Linear(X_train, y_train, X_train)\n",
    "print('The training error using the improved linear predictor is {}'.format(ERMS_cal(y_pre_train3,y_train)))"
   ]
  },
  {
   "cell_type": "code",
   "execution_count": 255,
   "metadata": {
    "collapsed": true
   },
   "outputs": [],
   "source": [
    "# How many days the predicted day is away from the training date can also be important:\n",
    "def compile_data_nday(sticker,dates,n):\n",
    "    stickers=['SPY','AMZN','DPZ','IHG','MSFT','C','EBAY','DIS','GOOG','AAPL']\n",
    "    dfStocks=readStocks(stickers,dates)\n",
    "    data_sticker=dfStocks[sticker].to_frame(name = 'Day0')\n",
    "\n",
    "    for i in range(1,7):\n",
    "        data_temp=dfStocks[sticker].shift(-i)\n",
    "        data_sticker=data_sticker.join(data_temp.to_frame(name='Day{}'.format(i)), how='inner')\n",
    "\n",
    "    #last collumn is price after n days: \n",
    "    estimate_day=7+n-1\n",
    "    data_temp=dfStocks[sticker].shift(-estimate_day)\n",
    "    data_sticker=data_sticker.join(data_temp.to_frame(name='Day{}'.format(estimate_day)), how='inner')\n",
    "    data_sticker=data_sticker.dropna()\n",
    "    #split into features and price\n",
    "    price_final=data_sticker['Day{}'.format(estimate_day)]\n",
    "    features_final=data_sticker.drop('Day{}'.format(estimate_day), axis = 1)\n",
    "    X_train, X_test, y_train, y_test=split_data(features_final,price_final)\n",
    "    return X_train, X_test, y_train, y_test\n",
    "\n"
   ]
  },
  {
   "cell_type": "code",
   "execution_count": 256,
   "metadata": {},
   "outputs": [
    {
     "data": {
      "image/png": "[encoded data removed]",
      "text/plain": [
       "<matplotlib.figure.Figure at 0x108ef8690>"
      ]
     },
     "metadata": {},
     "output_type": "display_data"
    }
   ],
   "source": [
    "ErrorDay=[]\n",
    "train_days=list(range(1,15))\n",
    "dates=pd.date_range('2010-10-31','2017-10-31')\n",
    "for N in train_days:\n",
    "    X_train, X_test, y_train, y_test= compile_data_Nday('AAPL',dates,N)\n",
    "    # split training data into train and cross_validation data:\n",
    "    #X_tr, X_cross, y_tr, y_cross=split_data(X_train,y_train)\n",
    "    y_pre=pred_Linear(X_train, y_train, X_test)\n",
    "    ErrorDay.append(ERMS_cal(y_pre,y_test))\n",
    "\n",
    "Error=pd.Series(data=ErrorDay, index=train_days)\n",
    "ax=Error.plot()\n",
    "ax.set_ylabel('Error')\n",
    "ax.set_xlabel('How many days in advance to predict')\n",
    "plt.show()"
   ]
  },
  {
   "cell_type": "code",
   "execution_count": 257,
   "metadata": {},
   "outputs": [
    {
     "data": {
      "image/png": "[encoded data removed]",
      "text/plain": [
       "<matplotlib.figure.Figure at 0x107577e10>"
      ]
     },
     "metadata": {},
     "output_type": "display_data"
    }
   ],
   "source": [
    "## refinement of KNN: changing n_neighbors\n",
    "X_tr, X_cross, y_tr, y_cross=split_data(X_train,y_train)\n",
    "N=range(2,30)\n",
    "Errors=[]\n",
    "for n in N:\n",
    "    y_pred1=pred_KNN(X_tr, y_tr, X_cross, n)\n",
    "    Errors.append(ERMS_cal(y_pred1,y_cross))\n",
    "Errors=pd.Series(data=Errors,index=N)\n",
    "\n",
    "\n",
    "ax=Errors.plot()\n",
    "ax.set_xlabel('Number of neighbors')\n",
    "ax.set_ylabel('Cross-validation Error')\n",
    "plt.show()"
   ]
  },
  {
   "cell_type": "code",
   "execution_count": 258,
   "metadata": {},
   "outputs": [
    {
     "name": "stdout",
     "output_type": "stream",
     "text": [
      "improved KNN gives training error is 0.106027696716\n"
     ]
    }
   ],
   "source": [
    "X_train, X_test, y_train, y_test= compile_data('AAPL')\n",
    "y_pred4=pred_KNN(X_train, y_train, X_test, 14)\n",
    "print('improved KNN gives training error is {}'.format(ERMS_cal(y_pred4,y_test)))"
   ]
  },
  {
   "cell_type": "code",
   "execution_count": 259,
   "metadata": {},
   "outputs": [
    {
     "name": "stdout",
     "output_type": "stream",
     "text": [
      "Improved KNN gives training error is 0.0367234382077\n"
     ]
    }
   ],
   "source": [
    "y_pred4_train=pred_KNN(X_train, y_train, X_train, 14)\n",
    "print('Improved KNN gives training error is {}'.format(ERMS_cal(y_pred4_train,y_train)))"
   ]
  },
  {
   "cell_type": "code",
   "execution_count": null,
   "metadata": {
    "collapsed": true
   },
   "outputs": [],
   "source": []
  }
 ],
 "metadata": {
  "kernelspec": {
   "display_name": "Python 2",
   "language": "python",
   "name": "python2"
  },
  "language_info": {
   "codemirror_mode": {
    "name": "ipython",
    "version": 2
   },
   "file_extension": ".py",
   "mimetype": "text/x-python",
   "name": "python",
   "nbconvert_exporter": "python",
   "pygments_lexer": "ipython2",
   "version": "2.7.13"
  }
 },
 "nbformat": 4,
 "nbformat_minor": 2
}
